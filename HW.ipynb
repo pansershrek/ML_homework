{
 "cells": [
  {
   "cell_type": "code",
   "execution_count": 20,
   "metadata": {},
   "outputs": [],
   "source": [
    "import numpy as np\n",
    "import copy\n",
    "import sklearn\n",
    "import sklearn.model_selection"
   ]
  },
  {
   "cell_type": "code",
   "execution_count": 21,
   "metadata": {},
   "outputs": [],
   "source": [
    "def stack_pred(estimator, X, y, Xt, k, method):\n",
    "    if method != 'predict_proba':\n",
    "        method = 'predict'\n",
    "    model = copy.deepcopy(estimator)\n",
    "    kf = sklearn.model_selection.KFold(n_splits=k)\n",
    "    \n",
    "    Train_data_scored = np.array([])\n",
    "    Test_data_scored = np.array([])\n",
    "    \n",
    "    Train_data_scored.resize(X.shape[0])\n",
    "    Test_data_scored.resize(Xt.shape[0])\n",
    "    \n",
    "    for train_index, test_index in kf.split(X):\n",
    "        X_train, X_test = X[train_index], X[test_index]\n",
    "        y_train, y_test = y[train_index], y[test_index]\n",
    "        model.fit(X_train, y_train)\n",
    "\n",
    "        if (method == 'predict'):\n",
    "            train_tmp = model.predict(X_test)\n",
    "            test_tmp = model.predict(Xt)\n",
    "        else:\n",
    "            train_tmp = model.predict_proba(X_test)\n",
    "            test_tmp = model.predict_proba(Xt)\n",
    "       \n",
    "        Train_data_scored[test_index] = train_tmp\n",
    "        Test_data_scored += test_tmp\n",
    "        \n",
    "    Test_data_scored = Test_data_scored / k\n",
    "    return Train_data_scored, Test_data_scored"
   ]
  },
  {
   "cell_type": "code",
   "execution_count": null,
   "metadata": {},
   "outputs": [],
   "source": []
  },
  {
   "cell_type": "code",
   "execution_count": null,
   "metadata": {},
   "outputs": [],
   "source": []
  },
  {
   "cell_type": "code",
   "execution_count": null,
   "metadata": {},
   "outputs": [],
   "source": []
  },
  {
   "cell_type": "code",
   "execution_count": null,
   "metadata": {},
   "outputs": [],
   "source": []
  },
  {
   "cell_type": "code",
   "execution_count": null,
   "metadata": {},
   "outputs": [],
   "source": []
  },
  {
   "cell_type": "code",
   "execution_count": null,
   "metadata": {},
   "outputs": [],
   "source": []
  },
  {
   "cell_type": "code",
   "execution_count": null,
   "metadata": {},
   "outputs": [],
   "source": []
  },
  {
   "cell_type": "code",
   "execution_count": null,
   "metadata": {},
   "outputs": [],
   "source": []
  },
  {
   "cell_type": "code",
   "execution_count": null,
   "metadata": {},
   "outputs": [],
   "source": []
  },
  {
   "cell_type": "code",
   "execution_count": null,
   "metadata": {},
   "outputs": [],
   "source": []
  },
  {
   "cell_type": "code",
   "execution_count": null,
   "metadata": {},
   "outputs": [],
   "source": []
  }
 ],
 "metadata": {
  "kernelspec": {
   "display_name": "Python 3",
   "language": "python",
   "name": "python3"
  },
  "language_info": {
   "codemirror_mode": {
    "name": "ipython",
    "version": 3
   },
   "file_extension": ".py",
   "mimetype": "text/x-python",
   "name": "python",
   "nbconvert_exporter": "python",
   "pygments_lexer": "ipython3",
   "version": "3.5.2"
  }
 },
 "nbformat": 4,
 "nbformat_minor": 2
}
