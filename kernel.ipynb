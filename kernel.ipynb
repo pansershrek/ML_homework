{
  "cells": [
    {
      "metadata": {
        "_uuid": "8f2839f25d086af736a60e9eeb907d3b93b6e0e5",
        "_cell_guid": "b1076dfc-b9ad-4769-8c92-a6c4dae69d19",
        "trusted": true
      },
      "cell_type": "code",
      "source": "import numpy as np # linear algebra\nimport pandas as pd # data processing, CSV file I/O (e.g. pd.read_csv)\nimport os\nimport math\nimport copy\n\nfrom datetime import datetime\n\nfrom sklearn.preprocessing import minmax_scale\nfrom sklearn.metrics import mean_absolute_error\n\nfrom sklearn.feature_selection import RFE\n\nfrom sklearn.svm import SVR\nfrom sklearn.ensemble.gradient_boosting import GradientBoostingRegressor\nfrom sklearn.ensemble import RandomForestRegressor\nfrom sklearn.model_selection import KFold\nfrom sklearn.linear_model import LinearRegression\n\n%matplotlib inline\nimport matplotlib.pyplot as plt\n\nprint(os.listdir(\"../input\"))",
      "execution_count": null,
      "outputs": []
    },
    {
      "metadata": {
        "_cell_guid": "79c7e3d0-c299-4dcb-8224-4455121ee9b0",
        "_uuid": "d629ff2d2480ee46fbb7e2d37f6b5fab8052498a",
        "trusted": true
      },
      "cell_type": "code",
      "source": "train = pd.read_csv(\"../input/Train.csv\")\ntest = pd.read_csv(\"../input/Test.csv\")",
      "execution_count": null,
      "outputs": []
    },
    {
      "metadata": {
        "trusted": true,
        "_uuid": "f77eb831739f505cf3d9d383193f928bf8b67dc5"
      },
      "cell_type": "code",
      "source": "train.head()",
      "execution_count": null,
      "outputs": []
    },
    {
      "metadata": {
        "trusted": true,
        "_uuid": "50b9df513844b184659d0435759c60a0916e96c9"
      },
      "cell_type": "code",
      "source": "train.shape",
      "execution_count": null,
      "outputs": []
    },
    {
      "metadata": {
        "trusted": true,
        "_uuid": "976ce2df1c5b234d2d664549b78a7d672ebb1cfc"
      },
      "cell_type": "code",
      "source": "plt.figure()\nplt.hist(train['price'], bins = 1000)",
      "execution_count": null,
      "outputs": []
    },
    {
      "metadata": {
        "trusted": true,
        "_uuid": "daf1c3e626463cf1ee07a9d6a80ccf3f6b04bdc1"
      },
      "cell_type": "code",
      "source": "train['price'].value_counts()",
      "execution_count": null,
      "outputs": []
    },
    {
      "metadata": {
        "trusted": true,
        "_uuid": "43a5b5ba3098dfd294287994cf064f61c7f9df3a"
      },
      "cell_type": "code",
      "source": "train.isnull().sum()",
      "execution_count": null,
      "outputs": []
    },
    {
      "metadata": {
        "trusted": true,
        "_uuid": "5bbd2699d097b5d51ecae93f57eea3bf455a4e4a"
      },
      "cell_type": "code",
      "source": "test.isnull().sum()",
      "execution_count": null,
      "outputs": []
    },
    {
      "metadata": {
        "trusted": true,
        "_uuid": "e97159928ec13d9a16e9126e1e620170c1371804"
      },
      "cell_type": "code",
      "source": "train['date'] = train['date'].map(lambda x: int((datetime.now() - datetime.strptime(str(x), '%Y-%m-%d')).total_seconds()))\ntest['date'] = test['date'].map(lambda x: (datetime.now() - datetime.strptime(str(x), '%Y-%m-%d')).total_seconds())",
      "execution_count": null,
      "outputs": []
    },
    {
      "metadata": {
        "trusted": true,
        "_uuid": "b411fef0376b9806d311e27cc7e75e217413a4b1"
      },
      "cell_type": "code",
      "source": "train['build_tech'] = train['build_tech'].fillna(-1)\ntrain['g_lift'] = train['g_lift'].fillna(-1)\ntrain['metro_dist'] = train['metro_dist'].fillna(-1)\ntest['build_tech'] = test['build_tech'].fillna(-1)\ntest['g_lift'] = test['g_lift'].fillna(-1)\ntest['metro_dist'] = test['metro_dist'].fillna(-1)\ntrain.head()",
      "execution_count": null,
      "outputs": []
    },
    {
      "metadata": {
        "trusted": true,
        "_uuid": "5aae125356f93fb20112b62089b4de45fa1b12c9"
      },
      "cell_type": "code",
      "source": "plt.figure(figsize=(10, 150))\nind = 1\nfor i in train.columns:\n    if i != 'price' and i != 'id':\n        plt.subplot(25, 1, ind)\n        plt.hist(train[i], bins=1000)\n        plt.title(i)\n        ind += 1\nplt.tight_layout()",
      "execution_count": null,
      "outputs": []
    },
    {
      "metadata": {
        "trusted": true,
        "_uuid": "937944de2ad5e5f6352726a2ccd6aa23405eeaae"
      },
      "cell_type": "code",
      "source": "train.describe()",
      "execution_count": null,
      "outputs": []
    },
    {
      "metadata": {
        "trusted": true,
        "_uuid": "5064cc6b44e3f6e98c17c04868214754a143ec69"
      },
      "cell_type": "code",
      "source": "columns = list(set(train.columns.values) - set(['price','id']))\nprint(columns)\nX = train[columns].values\nX_t = test[columns].values\ny = train['price']\nprint(y.head())\nprint(X.shape, X_t.shape)",
      "execution_count": null,
      "outputs": []
    },
    {
      "metadata": {
        "trusted": true,
        "_uuid": "0490ae4ba3b9f021dfa5056a5249d785106f6d4f"
      },
      "cell_type": "code",
      "source": "print(train['kw12'].value_counts())",
      "execution_count": null,
      "outputs": []
    },
    {
      "metadata": {
        "trusted": true,
        "_uuid": "3f09dc1410bbd3e47910b99c3347c685d6418251"
      },
      "cell_type": "code",
      "source": "C = train[columns]",
      "execution_count": null,
      "outputs": []
    },
    {
      "metadata": {
        "trusted": true,
        "_uuid": "fdcdd0cb86f9ad510694785e7fa910b683b02878"
      },
      "cell_type": "code",
      "source": "for i in columns:\n    #print(C[i].value_counts().max())\n    if (C[i].value_counts().max() > 60000):\n        print(i, C[i].unique())\n    #print(i,C[i].unique(),'\\n',C[i].value_counts().max())",
      "execution_count": null,
      "outputs": []
    },
    {
      "metadata": {
        "trusted": true,
        "_uuid": "f45ae3886f9f02527a20ea5dd6e532cc5f99abab"
      },
      "cell_type": "code",
      "source": "for i in columns:\n    if (C[i].value_counts().max() > 90000):\n        print(i, C[i].unique())",
      "execution_count": null,
      "outputs": []
    },
    {
      "metadata": {
        "trusted": true,
        "_uuid": "b50b23d1b69974c80578c7d3abfffb0a6b6cf086"
      },
      "cell_type": "code",
      "source": "X = minmax_scale(X=X)\nX_t = minmax_scale(X=X_t)",
      "execution_count": null,
      "outputs": []
    },
    {
      "metadata": {
        "trusted": true,
        "_uuid": "ee926a5dba694f31343ba1795339abe579112259"
      },
      "cell_type": "code",
      "source": "def calc(model, data, price = None):\n    X_tmp = minmax_scale(data)\n    kf = KFold(n_splits=7, shuffle=True, random_state=7)\n    result = []\n    y_tmp = price\n    if price is None:\n        y_tmp = y\n    for train_index, test_index in kf.split(X_tmp):\n        X_train, X_test = X_tmp[train_index], X_tmp[test_index]\n        y_train, y_test = y_tmp[train_index], y_tmp[test_index]\n        tmp_model = copy.copy(model)\n        tmp_model.fit(X_train, y_train)\n        y_ans = tmp_model.predict(X_test)\n        result.append(mean_absolute_error(y_test, y_ans))\n    result = np.array(result)\n    return result.mean()",
      "execution_count": null,
      "outputs": []
    },
    {
      "metadata": {
        "trusted": true,
        "_uuid": "6a09231f5c2d10e61a212dd664ce24c64ddcc885"
      },
      "cell_type": "code",
      "source": "def find_feat(_model, _columns, _data, _price = None):\n    _ans_col = []\n    _col = copy.copy(_columns)\n    quality = float('inf')\n    while True:\n        tmp_q = -1\n        col = ''\n        for i in _col:\n            tmp_col = copy.copy(_ans_col)\n            tmp_col.append(i)\n            tmp_data = _data[tmp_col]\n            clc = calc(_model, tmp_data, _price)\n            if tmp_q == -1:\n                tmp_q = clc\n                col = i\n            else:\n                if clc < tmp_q:\n                    tmp_q = clc\n                    col = i\n        if tmp_q < quality:\n            quality = tmp_q\n            _ans_col.append(col)\n        else:\n            break\n        _col = list(set(_col) - set(_ans_col))\n    return quality, _ans_col",
      "execution_count": null,
      "outputs": []
    },
    {
      "metadata": {
        "trusted": true,
        "_uuid": "4ca668d1a362dd444997b3d78d71be524b3e63e1"
      },
      "cell_type": "code",
      "source": "#tree_quality, tree_columns = find_feat(RandomForestRegressor(random_state=7,n_estimators=10), columns, train)\n#boost_quality, boost_columns = find_feat(GradientBoostingRegressor(random_state=7,loss='lad'), columns, train)\n#regr_quality, regr_columns = find_feat(LinearRegression(), columns, train)",
      "execution_count": null,
      "outputs": []
    },
    {
      "metadata": {
        "trusted": true,
        "_uuid": "d6ac9151212a3c54e963ec1df27d783efbc9a75f"
      },
      "cell_type": "code",
      "source": "#print(tree_quality, tree_columns)\n#print(boost_quality, boost_columns)\n#print(regr_quality, regr_columns)",
      "execution_count": null,
      "outputs": []
    },
    {
      "metadata": {
        "trusted": true,
        "_uuid": "5e3decc761e711ab6d973f56624f31ffef3bb941"
      },
      "cell_type": "code",
      "source": "tree_quality = 885688.3352337575 \ntree_columns = ['area', 'street_id', 'rooms', 'kw11']",
      "execution_count": null,
      "outputs": []
    },
    {
      "metadata": {
        "trusted": true,
        "_uuid": "5bf1f1b67da6d6b3f84c7ef49a93bc97ded390dc"
      },
      "cell_type": "code",
      "source": "#boost_quality = 1551065.1552422452\n#boost_columns = ['area', 'street_id', 'rooms', 'n_photos', 'metro_dist', 'balcon', 'build_tech', 'kw3']",
      "execution_count": null,
      "outputs": []
    },
    {
      "metadata": {
        "trusted": true,
        "_uuid": "608ac617149bfd350876d217990e3a44b275fde0"
      },
      "cell_type": "code",
      "source": "#regr_quality = 1690957.184157483\n#regr_columns = ['area', 'rooms', 'n_photos', 'metro_dist', 'balcon', 'floor', 'build_tech', 'street_id', 'date', 'kw1', 'kw3', 'kw11', 'kw2', 'kw7', 'kw10', 'kw4', 'kw9', 'kw12', 'g_lift']",
      "execution_count": null,
      "outputs": []
    },
    {
      "metadata": {
        "trusted": true,
        "_uuid": "9125e6de2f0cbc58cb16d3b12a29c2d0dafa52a4"
      },
      "cell_type": "code",
      "source": "",
      "execution_count": null,
      "outputs": []
    },
    {
      "metadata": {
        "trusted": true,
        "_uuid": "6910662267e45faecc2494e8fd7ab043d718bcd3"
      },
      "cell_type": "code",
      "source": "tree_data_train = pd.DataFrame(train[tree_columns])\ntree_data_test = pd.DataFrame(test[tree_columns])\nmodel_t = RandomForestRegressor(random_state=7, n_estimators=100)\nmodel_t.fit(tree_data_train,y)\ny_ans = model_t.predict(tree_data_test)\n\nwith open(\"TREE_ANS.csv\", \"w\") as file:\n    file.write(\"id,price\\n\")\n    for ind,rows in test.iterrows():\n        file.write(str(int(rows['id']))+','+str(y_ans[ind])+'\\n')\n        ind += 1",
      "execution_count": null,
      "outputs": []
    },
    {
      "metadata": {
        "trusted": true,
        "_uuid": "cea4fccec5336bbbd8e05fe213ebf8c7455c4382"
      },
      "cell_type": "code",
      "source": "#samp = pd.read_csv(\"../input/SampleSubmission.csv\")\n#samp.head()",
      "execution_count": null,
      "outputs": []
    },
    {
      "metadata": {
        "trusted": true,
        "_uuid": "35ce1351b2ee650a4a52b079ffa02bf17f46ee5e"
      },
      "cell_type": "code",
      "source": "#ans = pd.read_csv(\"ANS.csv\")\n#ans.head()",
      "execution_count": null,
      "outputs": []
    },
    {
      "metadata": {
        "trusted": true,
        "_uuid": "f3ce4c09e0d84f6bf4d64e915babe71045e71ad1"
      },
      "cell_type": "code",
      "source": "",
      "execution_count": null,
      "outputs": []
    },
    {
      "metadata": {
        "trusted": true,
        "_uuid": "689bbe0128a0ad4a4505c84d174bdf07d5726541"
      },
      "cell_type": "code",
      "source": "",
      "execution_count": null,
      "outputs": []
    },
    {
      "metadata": {
        "trusted": true,
        "_uuid": "3fb9963be20f32ce4812fec8afbb455b5e0c12b5"
      },
      "cell_type": "code",
      "source": "",
      "execution_count": null,
      "outputs": []
    }
  ],
  "metadata": {
    "kernelspec": {
      "display_name": "Python 3",
      "language": "python",
      "name": "python3"
    },
    "language_info": {
      "name": "python",
      "version": "3.6.6",
      "mimetype": "text/x-python",
      "codemirror_mode": {
        "name": "ipython",
        "version": 3
      },
      "pygments_lexer": "ipython3",
      "nbconvert_exporter": "python",
      "file_extension": ".py"
    }
  },
  "nbformat": 4,
  "nbformat_minor": 1
}