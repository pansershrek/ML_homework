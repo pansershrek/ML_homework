{
 "cells": [
  {
   "cell_type": "code",
   "execution_count": null,
   "metadata": {
    "_cell_guid": "b1076dfc-b9ad-4769-8c92-a6c4dae69d19",
    "_uuid": "8f2839f25d086af736a60e9eeb907d3b93b6e0e5"
   },
   "outputs": [],
   "source": [
    "import numpy as np # linear algebra\n",
    "import pandas as pd # data processing, CSV file I/O (e.g. pd.read_csv)\n",
    "import os\n",
    "import math\n",
    "import copy\n",
    "\n",
    "from datetime import datetime\n",
    "\n",
    "from sklearn.preprocessing import minmax_scale\n",
    "from sklearn.metrics import mean_absolute_error\n",
    "\n",
    "from sklearn.feature_selection import RFE\n",
    "\n",
    "from sklearn.svm import SVR\n",
    "from sklearn.ensemble.gradient_boosting import GradientBoostingRegressor\n",
    "from sklearn.ensemble import RandomForestRegressor\n",
    "from sklearn.model_selection import KFold\n",
    "from sklearn.linear_model import LinearRegression\n",
    "\n",
    "%matplotlib inline\n",
    "import matplotlib.pyplot as plt\n",
    "\n",
    "print(os.listdir(\"../input\"))"
   ]
  },
  {
   "cell_type": "code",
   "execution_count": null,
   "metadata": {
    "_cell_guid": "79c7e3d0-c299-4dcb-8224-4455121ee9b0",
    "_uuid": "d629ff2d2480ee46fbb7e2d37f6b5fab8052498a"
   },
   "outputs": [],
   "source": [
    "train = pd.read_csv(\"../input/Train.csv\")\n",
    "test = pd.read_csv(\"../input/Test.csv\")"
   ]
  },
  {
   "cell_type": "code",
   "execution_count": null,
   "metadata": {
    "_uuid": "f77eb831739f505cf3d9d383193f928bf8b67dc5"
   },
   "outputs": [],
   "source": [
    "train.head()"
   ]
  },
  {
   "cell_type": "code",
   "execution_count": null,
   "metadata": {
    "_uuid": "50b9df513844b184659d0435759c60a0916e96c9"
   },
   "outputs": [],
   "source": [
    "train.shape"
   ]
  },
  {
   "cell_type": "code",
   "execution_count": null,
   "metadata": {
    "_uuid": "976ce2df1c5b234d2d664549b78a7d672ebb1cfc"
   },
   "outputs": [],
   "source": [
    "plt.figure()\n",
    "plt.hist(train['price'], bins = 1000)"
   ]
  },
  {
   "cell_type": "code",
   "execution_count": null,
   "metadata": {
    "_uuid": "daf1c3e626463cf1ee07a9d6a80ccf3f6b04bdc1"
   },
   "outputs": [],
   "source": [
    "train['price'].value_counts()"
   ]
  },
  {
   "cell_type": "code",
   "execution_count": null,
   "metadata": {
    "_uuid": "43a5b5ba3098dfd294287994cf064f61c7f9df3a"
   },
   "outputs": [],
   "source": [
    "train.isnull().sum()"
   ]
  },
  {
   "cell_type": "code",
   "execution_count": null,
   "metadata": {
    "_uuid": "5bbd2699d097b5d51ecae93f57eea3bf455a4e4a"
   },
   "outputs": [],
   "source": [
    "test.isnull().sum()"
   ]
  },
  {
   "cell_type": "code",
   "execution_count": null,
   "metadata": {
    "_uuid": "e97159928ec13d9a16e9126e1e620170c1371804"
   },
   "outputs": [],
   "source": [
    "train['date'] = train['date'].map(lambda x: int((datetime.now() - datetime.strptime(str(x), '%Y-%m-%d')).total_seconds()))\n",
    "test['date'] = test['date'].map(lambda x: (datetime.now() - datetime.strptime(str(x), '%Y-%m-%d')).total_seconds())"
   ]
  },
  {
   "cell_type": "code",
   "execution_count": null,
   "metadata": {
    "_uuid": "b411fef0376b9806d311e27cc7e75e217413a4b1"
   },
   "outputs": [],
   "source": [
    "train['build_tech'] = train['build_tech'].fillna(-1)\n",
    "train['g_lift'] = train['g_lift'].fillna(-1)\n",
    "train['metro_dist'] = train['metro_dist'].fillna(-1)\n",
    "test['build_tech'] = test['build_tech'].fillna(-1)\n",
    "test['g_lift'] = test['g_lift'].fillna(-1)\n",
    "test['metro_dist'] = test['metro_dist'].fillna(-1)\n",
    "train.head()"
   ]
  },
  {
   "cell_type": "code",
   "execution_count": null,
   "metadata": {
    "_uuid": "5aae125356f93fb20112b62089b4de45fa1b12c9"
   },
   "outputs": [],
   "source": [
    "plt.figure(figsize=(10, 150))\n",
    "ind = 1\n",
    "for i in train.columns:\n",
    "    if i != 'price' and i != 'id':\n",
    "        plt.subplot(25, 1, ind)\n",
    "        plt.hist(train[i], bins=1000)\n",
    "        plt.title(i)\n",
    "        ind += 1\n",
    "plt.tight_layout()"
   ]
  },
  {
   "cell_type": "code",
   "execution_count": null,
   "metadata": {
    "_uuid": "937944de2ad5e5f6352726a2ccd6aa23405eeaae"
   },
   "outputs": [],
   "source": [
    "train.describe()"
   ]
  },
  {
   "cell_type": "code",
   "execution_count": null,
   "metadata": {
    "_uuid": "5064cc6b44e3f6e98c17c04868214754a143ec69"
   },
   "outputs": [],
   "source": [
    "columns = list(set(train.columns.values) - set(['price','id']))\n",
    "print(columns)\n",
    "X = train[columns].values\n",
    "X_t = test[columns].values\n",
    "y = train['price']\n",
    "print(y.head())\n",
    "print(X.shape, X_t.shape)"
   ]
  },
  {
   "cell_type": "code",
   "execution_count": null,
   "metadata": {
    "_uuid": "0490ae4ba3b9f021dfa5056a5249d785106f6d4f"
   },
   "outputs": [],
   "source": [
    "print(train['kw12'].value_counts())"
   ]
  },
  {
   "cell_type": "code",
   "execution_count": null,
   "metadata": {
    "_uuid": "3f09dc1410bbd3e47910b99c3347c685d6418251"
   },
   "outputs": [],
   "source": [
    "C = train[columns]"
   ]
  },
  {
   "cell_type": "code",
   "execution_count": null,
   "metadata": {
    "_uuid": "fdcdd0cb86f9ad510694785e7fa910b683b02878"
   },
   "outputs": [],
   "source": [
    "for i in columns:\n",
    "    #print(C[i].value_counts().max())\n",
    "    if (C[i].value_counts().max() > 60000):\n",
    "        print(i, C[i].unique())\n",
    "    #print(i,C[i].unique(),'\\n',C[i].value_counts().max())"
   ]
  },
  {
   "cell_type": "code",
   "execution_count": null,
   "metadata": {
    "_uuid": "f45ae3886f9f02527a20ea5dd6e532cc5f99abab"
   },
   "outputs": [],
   "source": [
    "for i in columns:\n",
    "    if (C[i].value_counts().max() > 90000):\n",
    "        print(i, C[i].unique())"
   ]
  },
  {
   "cell_type": "code",
   "execution_count": null,
   "metadata": {
    "_uuid": "b50b23d1b69974c80578c7d3abfffb0a6b6cf086"
   },
   "outputs": [],
   "source": [
    "X = minmax_scale(X=X)\n",
    "X_t = minmax_scale(X=X_t)"
   ]
  },
  {
   "cell_type": "code",
   "execution_count": null,
   "metadata": {
    "_uuid": "ee926a5dba694f31343ba1795339abe579112259"
   },
   "outputs": [],
   "source": [
    "def calc(model, data, price = None):\n",
    "    X_tmp = minmax_scale(data)\n",
    "    kf = KFold(n_splits=7, shuffle=True, random_state=7)\n",
    "    result = []\n",
    "    y_tmp = price\n",
    "    if price is None:\n",
    "        y_tmp = y\n",
    "    for train_index, test_index in kf.split(X_tmp):\n",
    "        X_train, X_test = X_tmp[train_index], X_tmp[test_index]\n",
    "        y_train, y_test = y_tmp[train_index], y_tmp[test_index]\n",
    "        tmp_model = copy.copy(model)\n",
    "        tmp_model.fit(X_train, y_train)\n",
    "        y_ans = tmp_model.predict(X_test)\n",
    "        result.append(mean_absolute_error(y_test, y_ans))\n",
    "    result = np.array(result)\n",
    "    return result.mean()"
   ]
  },
  {
   "cell_type": "code",
   "execution_count": null,
   "metadata": {
    "_uuid": "6a09231f5c2d10e61a212dd664ce24c64ddcc885"
   },
   "outputs": [],
   "source": [
    "def find_feat(_model, _columns, _data, _price = None):\n",
    "    _ans_col = []\n",
    "    _col = copy.copy(_columns)\n",
    "    quality = float('inf')\n",
    "    while True:\n",
    "        tmp_q = -1\n",
    "        col = ''\n",
    "        for i in _col:\n",
    "            tmp_col = copy.copy(_ans_col)\n",
    "            tmp_col.append(i)\n",
    "            tmp_data = _data[tmp_col]\n",
    "            clc = calc(_model, tmp_data, _price)\n",
    "            if tmp_q == -1:\n",
    "                tmp_q = clc\n",
    "                col = i\n",
    "            else:\n",
    "                if clc < tmp_q:\n",
    "                    tmp_q = clc\n",
    "                    col = i\n",
    "        if tmp_q < quality:\n",
    "            quality = tmp_q\n",
    "            _ans_col.append(col)\n",
    "        else:\n",
    "            break\n",
    "        _col = list(set(_col) - set(_ans_col))\n",
    "    return quality, _ans_col"
   ]
  },
  {
   "cell_type": "code",
   "execution_count": null,
   "metadata": {
    "_uuid": "4ca668d1a362dd444997b3d78d71be524b3e63e1"
   },
   "outputs": [],
   "source": [
    "tree_quality, tree_columns = find_feat(RandomForestRegressor(random_state=7,n_estimators=10), columns, train)\n",
    "boost_quality, boost_columns = find_feat(GradientBoostingRegressor(random_state=7,loss='lad'), columns, train)\n",
    "regr_quality, regr_columns = find_feat(LinearRegression(), columns, train)"
   ]
  },
  {
   "cell_type": "code",
   "execution_count": null,
   "metadata": {
    "_uuid": "d6ac9151212a3c54e963ec1df27d783efbc9a75f"
   },
   "outputs": [],
   "source": [
    "print(tree_quality, tree_columns)\n",
    "print(boost_quality, boost_columns)\n",
    "print(regr_quality, regr_columns)"
   ]
  },
  {
   "cell_type": "code",
   "execution_count": null,
   "metadata": {
    "_uuid": "5e3decc761e711ab6d973f56624f31ffef3bb941"
   },
   "outputs": [],
   "source": [
    "#tree_quality = 885688.3352337575 \n",
    "#tree_columns = ['area', 'street_id', 'rooms', 'kw11']"
   ]
  },
  {
   "cell_type": "code",
   "execution_count": null,
   "metadata": {
    "_uuid": "5bf1f1b67da6d6b3f84c7ef49a93bc97ded390dc"
   },
   "outputs": [],
   "source": [
    "#boost_quality = 1551065.1552422452\n",
    "#boost_columns = ['area', 'street_id', 'rooms', 'n_photos', 'metro_dist', 'balcon', 'build_tech', 'kw3']"
   ]
  },
  {
   "cell_type": "code",
   "execution_count": null,
   "metadata": {
    "_uuid": "608ac617149bfd350876d217990e3a44b275fde0"
   },
   "outputs": [],
   "source": [
    "#regr_quality = 1690957.184157483\n",
    "#regr_columns = ['area', 'rooms', 'n_photos', 'metro_dist', 'balcon', 'floor', 'build_tech', 'street_id', 'date', 'kw1', 'kw3', 'kw11', 'kw2', 'kw7', 'kw10', 'kw4', 'kw9', 'kw12', 'g_lift']"
   ]
  },
  {
   "cell_type": "code",
   "execution_count": null,
   "metadata": {
    "_uuid": "9125e6de2f0cbc58cb16d3b12a29c2d0dafa52a4"
   },
   "outputs": [],
   "source": []
  },
  {
   "cell_type": "code",
   "execution_count": null,
   "metadata": {
    "_uuid": "6910662267e45faecc2494e8fd7ab043d718bcd3"
   },
   "outputs": [],
   "source": [
    "tree_data_train = pd.DataFrame(train[tree_columns])\n",
    "tree_data_test = pd.DataFrame(test[tree_columns])\n",
    "model_t = RandomForestRegressor(random_state=7, n_estimators=100)\n",
    "model_t.fit(tree_data_train,y)\n",
    "y_ans = model_t.predict(tree_data_test)\n",
    "\n",
    "with open(\"TREE_ANS.csv\", \"w\") as file:\n",
    "    file.write(\"id,price\\n\")\n",
    "    for ind,rows in test.iterrows():\n",
    "        file.write(str(int(rows['id']))+','+str(y_ans[ind])+'\\n')\n",
    "        ind += 1"
   ]
  },
  {
   "cell_type": "code",
   "execution_count": null,
   "metadata": {
    "_uuid": "cea4fccec5336bbbd8e05fe213ebf8c7455c4382"
   },
   "outputs": [],
   "source": [
    "#samp = pd.read_csv(\"../input/SampleSubmission.csv\")\n",
    "#samp.head()"
   ]
  },
  {
   "cell_type": "code",
   "execution_count": null,
   "metadata": {
    "_uuid": "35ce1351b2ee650a4a52b079ffa02bf17f46ee5e"
   },
   "outputs": [],
   "source": [
    "#ans = pd.read_csv(\"ANS.csv\")\n",
    "#ans.head()"
   ]
  },
  {
   "cell_type": "code",
   "execution_count": null,
   "metadata": {
    "_uuid": "f3ce4c09e0d84f6bf4d64e915babe71045e71ad1"
   },
   "outputs": [],
   "source": []
  },
  {
   "cell_type": "code",
   "execution_count": null,
   "metadata": {
    "_uuid": "689bbe0128a0ad4a4505c84d174bdf07d5726541"
   },
   "outputs": [],
   "source": []
  },
  {
   "cell_type": "code",
   "execution_count": null,
   "metadata": {
    "_uuid": "3fb9963be20f32ce4812fec8afbb455b5e0c12b5"
   },
   "outputs": [],
   "source": []
  }
 ],
 "metadata": {
  "kernelspec": {
   "display_name": "Python 3",
   "language": "python",
   "name": "python3"
  },
  "language_info": {
   "codemirror_mode": {
    "name": "ipython",
    "version": 3
   },
   "file_extension": ".py",
   "mimetype": "text/x-python",
   "name": "python",
   "nbconvert_exporter": "python",
   "pygments_lexer": "ipython3",
   "version": "3.5.2"
  }
 },
 "nbformat": 4,
 "nbformat_minor": 1
}
